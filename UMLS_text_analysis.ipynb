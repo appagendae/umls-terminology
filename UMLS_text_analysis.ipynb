{
 "cells": [
  {
   "cell_type": "markdown",
   "id": "4a44fe02",
   "metadata": {},
   "source": [
    "# Termos Clínicos e Mapeamento com UMLS"
   ]
  },
  {
   "cell_type": "markdown",
   "id": "f4dc348b",
   "metadata": {},
   "source": [
    "\n",
    "2. Geração de matrizes termo-documento e TF-IDF.\n",
    "3. Extração dos termos mais importantes.\n",
    "4. Consulta dos CUIs via API do UMLS.\n",
    "5. Representação vetorial por CUI.\n",
    "6. Visualização dos termos mais frequentes."
   ]
  },
  {
   "cell_type": "code",
   "execution_count": 1,
   "id": "3b1ad926",
   "metadata": {},
   "outputs": [],
   "source": [
    "# Substitua pela sua chave da API do UMLS\n",
    "api_key = '6849045a-3563-4d63-b939-fc053b058c09'"
   ]
  },
  {
   "cell_type": "markdown",
   "id": "a92efcd8",
   "metadata": {},
   "source": [
    "### 1. Recebe um termo clínico, acessa a API e retorna os termos mais próximos encontrados na UMLS."
   ]
  },
  {
   "cell_type": "code",
   "execution_count": 2,
   "id": "12da3285",
   "metadata": {},
   "outputs": [
    {
     "name": "stdout",
     "output_type": "stream",
     "text": [
      "Termo: Bruxism | CUI: C0006325\n",
      "Termo: Sleep Bruxism | CUI: C0751771\n",
      "Termo: Bruxism aggravated | CUI: C0877360\n",
      "Termo: Sleep-Related Bruxism | CUI: C0393774\n"
     ]
    }
   ],
   "source": [
    "import requests\n",
    "\n",
    "def buscar_termos_umls(termo, api_key, max_resultados=5, search_type='words'):\n",
    "    \"\"\"\n",
    "    - termo (str): O termo clínico a ser pesquisado.\n",
    "    - api_key (str): Sua chave de API do UMLS.\n",
    "    - max_resultados (int): Número máximo de resultados a retornar.\n",
    "    - search_type (str): Tipo de busca ('words', 'exact', 'normalizedString', etc.).\n",
    "    \"\"\"\n",
    "    url = \"https://uts-ws.nlm.nih.gov/rest/search/current\"\n",
    "    params = {\n",
    "        \"string\": termo,\n",
    "        \"apiKey\": api_key,\n",
    "        \"pageSize\": max_resultados,\n",
    "        \"searchType\": search_type\n",
    "    }\n",
    "\n",
    "    try:\n",
    "        resposta = requests.get(url, params=params)\n",
    "        resposta.raise_for_status()\n",
    "        dados = resposta.json()\n",
    "        resultados = dados.get(\"result\", {}).get(\"results\", [])\n",
    "        termos_encontrados = [(item.get(\"name\"), item.get(\"ui\")) for item in resultados]\n",
    "        return termos_encontrados\n",
    "    except requests.exceptions.RequestException as e:\n",
    "        print(f\"Erro na requisição: {e}\")\n",
    "        return []\n",
    "\n",
    "termo_clinico = 'bruxismo'\n",
    "\n",
    "resultados = buscar_termos_umls(termo_clinico, api_key)\n",
    "\n",
    "for nome, cui in resultados:\n",
    "    print(f\"Termo: {nome} | CUI: {cui}\")\n"
   ]
  },
  {
   "cell_type": "markdown",
   "id": "91abbe57",
   "metadata": {},
   "source": [
    "### 2. Abre os textos clínicos dos diretórios que finalizam com “Raw” disponíveis no repositório (https://github.com/kunkaweb/PortugueseClinicalNER.git)"
   ]
  },
  {
   "cell_type": "code",
   "execution_count": 3,
   "id": "8cfd07fc",
   "metadata": {},
   "outputs": [
    {
     "name": "stdout",
     "output_type": "stream",
     "text": [
      "Total de textos clínicos lidos: 281\n"
     ]
    }
   ],
   "source": [
    "import os\n",
    "\n",
    "def ler_textos_raw(caminho_repositorio):\n",
    "    textos = []\n",
    "    for raiz, dirs, arquivos in os.walk(caminho_repositorio):\n",
    "        # Verifica se o diretório atual termina com 'Raw'\n",
    "        if os.path.basename(raiz).endswith(\"Raw\"):\n",
    "            for nome_arquivo in arquivos:\n",
    "                if nome_arquivo.endswith(\".txt\"):\n",
    "                    caminho_arquivo = os.path.join(raiz, nome_arquivo)\n",
    "                    try:\n",
    "                        with open(caminho_arquivo, 'r', encoding='latin-1') as arquivo:\n",
    "                            conteudo = arquivo.read()\n",
    "                            textos.append(conteudo)\n",
    "                    except Exception as e:\n",
    "                        print(f\"Erro ao ler {caminho_arquivo}: {e}\")\n",
    "    return textos\n",
    "\n",
    "# Exemplo de uso\n",
    "caminho_repositorio = \"./PortugueseClinicalNER\"  # Substitua pelo caminho correto\n",
    "textos_clinicos = ler_textos_raw(caminho_repositorio)\n",
    "\n",
    "# Exibe a quantidade de textos lidos\n",
    "print(f\"Total de textos clínicos lidos: {len(textos_clinicos)}\")\n"
   ]
  },
  {
   "cell_type": "markdown",
   "id": "3d9ec8b3",
   "metadata": {},
   "source": [
    "### 3. Gera a matriz termo-documento da base de dados utilizando n-grams (bag of words)"
   ]
  },
  {
   "cell_type": "code",
   "execution_count": 4,
   "id": "fbc89d96",
   "metadata": {},
   "outputs": [
    {
     "name": "stdout",
     "output_type": "stream",
     "text": [
      "Formato da matriz termo-documento: (281, 33653)\n",
      "Exemplo de termos: ['000' '000 mm3' '03mm' '03mm 15mm' '04' '04 06' '06' '06 10' '06 mg'\n",
      " '07mg' '07mg dl' '10' '10 12mm' '10 24' '10 30' '10 anos' '10 bandas'\n",
      " '10 boc' '10 dias' '10 exão']\n"
     ]
    }
   ],
   "source": [
    "from sklearn.feature_extraction.text import CountVectorizer\n",
    "\n",
    "def gerar_matriz_termo_documento(textos, ngram_range=(1, 2), max_features=None):\n",
    "    \"\"\"\n",
    "    Gera a matriz termo-documento a partir de uma lista de textos clínicos.\n",
    "\n",
    "    Parâmetros:\n",
    "    - textos (list): Lista de strings, cada uma representando um documento.\n",
    "    - ngram_range (tuple): Ex: (1, 2) inclui unigramas e bigramas.\n",
    "    - max_features (int): Número máximo de termos a considerar (opcional).\n",
    "\n",
    "    Retorna:\n",
    "    - matriz (sparse matrix): Matriz termo-documento.\n",
    "    - vetorizar (CountVectorizer): Vetorizador treinado (contém os termos).\n",
    "    \"\"\"\n",
    "    vetorizar = CountVectorizer(ngram_range=ngram_range, \n",
    "                                 stop_words='english', \n",
    "                                 max_features=max_features)\n",
    "    matriz = vetorizar.fit_transform(textos)\n",
    "    return matriz, vetorizar\n",
    "\n",
    "# Suponha que `textos_clinicos` já contenha os textos lidos\n",
    "matriz_td, vetor_bow = gerar_matriz_termo_documento(textos_clinicos, ngram_range=(1, 2))\n",
    "\n",
    "# Exibir tamanho da matriz: (n_docs, n_termos)\n",
    "print(\"Formato da matriz termo-documento:\", matriz_td.shape)\n",
    "\n",
    "# Exibir os primeiros 20 termos do vocabulário\n",
    "print(\"Exemplo de termos:\", vetor_bow.get_feature_names_out()[:20])\n",
    "\n"
   ]
  },
  {
   "cell_type": "markdown",
   "id": "1aade49b",
   "metadata": {},
   "source": [
    "### 4. Gerar a matriz termo-documento da base de dados utilizando n-grams (bag of words)"
   ]
  },
  {
   "cell_type": "code",
   "execution_count": 5,
   "id": "159ee7af",
   "metadata": {},
   "outputs": [
    {
     "name": "stdout",
     "output_type": "stream",
     "text": [
      "Formato da matriz TF-IDF: (281, 33653)\n"
     ]
    }
   ],
   "source": [
    "from sklearn.feature_extraction.text import TfidfTransformer\n",
    "\n",
    "def gerar_matriz_tfidf(matriz_termo_documento):\n",
    "    \"\"\"\n",
    "    Converte uma matriz termo-documento (Bag of Words) em matriz TF-IDF.\n",
    "\n",
    "    Parâmetros:\n",
    "    - matriz_termo_documento (sparse matrix): Saída do CountVectorizer.\n",
    "\n",
    "    Retorna:\n",
    "    - matriz_tfidf (sparse matrix): Matriz com os pesos TF-IDF.\n",
    "    - tfidf_transformer (TfidfTransformer): Transformador treinado.\n",
    "    \"\"\"\n",
    "    tfidf_transformer = TfidfTransformer()\n",
    "    matriz_tfidf = tfidf_transformer.fit_transform(matriz_termo_documento)\n",
    "    return matriz_tfidf, tfidf_transformer\n",
    "\n",
    "# matriz_td vem do CountVectorizer\n",
    "matriz_tfidf, tfidf = gerar_matriz_tfidf(matriz_td)\n",
    "\n",
    "# Verificar o formato da matriz TF-IDF\n",
    "print(\"Formato da matriz TF-IDF:\", matriz_tfidf.shape)\n",
    "\n"
   ]
  },
  {
   "cell_type": "markdown",
   "id": "18c3213d",
   "metadata": {},
   "source": [
    "### 5. Gere a matriz de pesos TF-IDF da base"
   ]
  },
  {
   "cell_type": "code",
   "execution_count": 7,
   "id": "bf5b986e",
   "metadata": {},
   "outputs": [
    {
     "name": "stdout",
     "output_type": "stream",
     "text": [
      "Top termos do primeiro documento:\n",
      "['estenose da', 'acp direita', 'hemiparesia', 'oclusão', 'esquerda grau', 'da acp', 'pulsos', 'acp', 'esquerda', 'oclusão da']\n"
     ]
    }
   ],
   "source": [
    "import numpy as np\n",
    "\n",
    "def extrair_top_termos_por_documento(matriz_tfidf, vetorizar, top_n=10):\n",
    "    \"\"\"\n",
    "    Retorna os top N termos com maior peso TF-IDF por documento.\n",
    "\n",
    "    Parâmetros:\n",
    "    - matriz_tfidf: Matriz gerada pelo TfidfTransformer.\n",
    "    - vetorizar: Instância do CountVectorizer treinada.\n",
    "    - top_n: Número de termos relevantes a retornar por documento.\n",
    "\n",
    "    Retorna:\n",
    "    - Lista de listas com os termos mais importantes por documento.\n",
    "    \"\"\"\n",
    "    termos = vetorizar.get_feature_names_out()\n",
    "    top_termos_por_doc = []\n",
    "\n",
    "    for i in range(matriz_tfidf.shape[0]):\n",
    "        vetor = matriz_tfidf[i].toarray()[0]\n",
    "        indices_top = vetor.argsort()[-top_n:][::-1]\n",
    "        termos_top = [termos[idx] for idx in indices_top]\n",
    "        top_termos_por_doc.append(termos_top)\n",
    "\n",
    "    return top_termos_por_doc\n",
    "\n",
    "top_termos = extrair_top_termos_por_documento(matriz_tfidf, vetor_bow)\n",
    "\n",
    "# Exemplo: mostrar os termos mais relevantes do primeiro documento\n",
    "print(\"Top termos do primeiro documento:\")\n",
    "print(top_termos[0])\n"
   ]
  },
  {
   "cell_type": "markdown",
   "id": "ac80a898",
   "metadata": {},
   "source": [
    "### 6. Enviar os top 10 termos mais importantes de cada nota clínica para a API e obter seus CUIs"
   ]
  },
  {
   "cell_type": "code",
   "execution_count": 21,
   "id": "68ee54df",
   "metadata": {},
   "outputs": [
    {
     "name": "stdout",
     "output_type": "stream",
     "text": [
      "CUIs do primeiro documento:\n",
      "['C0003507', None, 'C0018989', 'C0024636', 'C1525777', None, 'C0241760', 'C0394005', 'C0023212', 'C0265101']\n"
     ]
    }
   ],
   "source": [
    "import requests\n",
    "import time\n",
    "\n",
    "def obter_cuis_para_termos(top_termos_por_doc, api_key, delay=0.5, limite_docs=2):\n",
    "    \"\"\"\n",
    "    Consulta a API UMLS para obter os CUIs dos termos clínicos mais relevantes.\n",
    "\n",
    "    Parâmetros:\n",
    "    - top_termos_por_doc: Lista de listas com os top N termos por documento.\n",
    "    - api_key: Chave de acesso à API do UMLS.\n",
    "    - delay: Tempo de espera entre requisições para evitar bloqueio.\n",
    "\n",
    "    Retorna:\n",
    "    - Lista de listas com os CUIs correspondentes por documento.\n",
    "    \"\"\"\n",
    "    base_url = \"https://uts-ws.nlm.nih.gov/rest/search/current\"\n",
    "    resultados_cuis = []\n",
    "\n",
    "    for termos_doc in top_termos_por_doc[:limite_docs]: \n",
    "        cuis = []\n",
    "        for termo in termos_doc:\n",
    "            try:\n",
    "                params = {\n",
    "                    \"string\": termo,\n",
    "                    \"apiKey\": api_key,\n",
    "                    \"pageSize\": 1,\n",
    "                    \"searchType\": \"words\"\n",
    "                }\n",
    "                resposta = requests.get(base_url, params=params)\n",
    "                resposta.raise_for_status()\n",
    "                dados = resposta.json()\n",
    "                resultado = dados.get(\"result\", {}).get(\"results\", [])\n",
    "                if resultado:\n",
    "                    cui = resultado[0].get(\"ui\")\n",
    "                    cuis.append(cui)\n",
    "                else:\n",
    "                    cuis.append(None)\n",
    "            except Exception as e:\n",
    "                print(f\"Erro ao buscar '{termo}': {e}\")\n",
    "                cuis.append(None)\n",
    "            time.sleep(delay)  # evita excesso de chamadas em sequência\n",
    "        resultados_cuis.append(cuis)\n",
    "    \n",
    "    return resultados_cuis\n",
    "\n",
    "\n",
    "# top_termos foi gerado na etapa anterior com TF-IDF\n",
    "cuis_por_documento = obter_cuis_para_termos(top_termos, api_key, 0.5, 20)\n",
    "\n",
    "# Visualizar os CUIs obtidos para o primeiro documento\n",
    "print(\"CUIs do primeiro documento:\")\n",
    "print(cuis_por_documento[0])\n"
   ]
  },
  {
   "cell_type": "markdown",
   "id": "d8b8dc13",
   "metadata": {},
   "source": [
    "### 7. Criar vetores de CUIs representando cada nota clínica e imprimir"
   ]
  },
  {
   "cell_type": "code",
   "execution_count": 22,
   "id": "f07b957f",
   "metadata": {},
   "outputs": [
    {
     "name": "stdout",
     "output_type": "stream",
     "text": [
      "Documento 1 → CUIs: ['C0003507', 'N/A', 'C0018989', 'C0024636', 'C1525777', 'N/A', 'C0241760', 'C0394005', 'C0023212', 'C0265101']\n",
      "Documento 2 → CUIs: ['C0405580', 'C0019004', 'C0023467', 'C0412585', 'C0751495', 'C0719635', 'C4538276', 'C0040405', 'C0012222', 'C0228174']\n",
      "Documento 3 → CUIs: ['C1961011', 'C0231170', 'N/A', 'N/A', 'N/A', 'C1550151', 'C0231666', 'C0392485', 'C0006382', 'C0033204']\n",
      "Documento 4 → CUIs: ['C1095546', 'C0750197', 'C5779771', 'C4087267', 'C0034933', 'C0026896', 'C0453996', 'N/A', 'C0404391', 'N/A']\n",
      "Documento 5 → CUIs: ['C0043387', 'N/A', 'N/A', 'C5234771', 'C0031315', 'C1999039', 'N/A', 'N/A', 'N/A', 'C0040446']\n"
     ]
    }
   ],
   "source": [
    "def representar_notas_por_cuis(cuis_por_documento):\n",
    "    \"\"\"\n",
    "    Constrói um vetor de CUIs para cada nota clínica.\n",
    "\n",
    "    Parâmetro:\n",
    "    - cuis_por_documento: Lista de listas com CUIs dos termos de cada documento.\n",
    "\n",
    "    Retorna:\n",
    "    - Lista de vetores de CUIs (um por documento).\n",
    "    \"\"\"\n",
    "    vetores = []\n",
    "    for cuis in cuis_por_documento:\n",
    "        vetor = [cui if cui else \"N/A\" for cui in cuis]  # \"N/A\" para CUIs não encontrados\n",
    "        vetores.append(vetor)\n",
    "    return vetores\n",
    "\n",
    "vetores_cuis = representar_notas_por_cuis(cuis_por_documento)\n",
    "\n",
    "# Imprimir os vetores de CUIs dos primeiros 5 documentos\n",
    "for i, vetor in enumerate(vetores_cuis[:5]):\n",
    "    print(f\"Documento {i+1} → CUIs: {vetor}\")\n"
   ]
  },
  {
   "cell_type": "markdown",
   "id": "0609babe",
   "metadata": {},
   "source": [
    "### 8. Plotar os termos (nome do termo + CUI) mais importantes do dataset"
   ]
  },
  {
   "cell_type": "code",
   "execution_count": 23,
   "id": "1f523810",
   "metadata": {},
   "outputs": [
    {
     "data": {
      "image/png": "[encoded data removed]",
      "text/plain": [
       "<Figure size 1200x600 with 1 Axes>"
      ]
     },
     "metadata": {},
     "output_type": "display_data"
    }
   ],
   "source": [
    "import matplotlib.pyplot as plt\n",
    "from collections import Counter\n",
    "\n",
    "def plotar_termos_cuis_mais_frequentes(top_termos, cuis_por_documento, top_n=10):\n",
    "    \"\"\"\n",
    "    Plota os termos + CUI mais frequentes em todo o dataset.\n",
    "\n",
    "    Parâmetros:\n",
    "    - top_termos: Lista de listas com os top termos por documento.\n",
    "    - cuis_por_documento: Lista de listas com os CUIs correspondentes.\n",
    "    - top_n: Número de pares a exibir no gráfico.\n",
    "    \"\"\"\n",
    "    pares_termo_cui = []\n",
    "\n",
    "    for termos, cuis in zip(top_termos, cuis_por_documento):\n",
    "        for termo, cui in zip(termos, cuis):\n",
    "            if cui:  # ignora None\n",
    "                pares_termo_cui.append(f\"{termo} ({cui})\")\n",
    "\n",
    "    contagem = Counter(pares_termo_cui)\n",
    "    mais_frequentes = contagem.most_common(top_n)\n",
    "    \n",
    "    labels, valores = zip(*mais_frequentes)\n",
    "\n",
    "    plt.figure(figsize=(12, 6))\n",
    "    plt.barh(labels, valores)\n",
    "    plt.xlabel(\"Frequência\")\n",
    "    plt.title(f\"Top {top_n} Termos Clínicos + CUI mais frequentes\")\n",
    "    plt.gca().invert_yaxis()\n",
    "    plt.tight_layout()\n",
    "    plt.show()\n",
    "\n",
    "\n",
    "plotar_termos_cuis_mais_frequentes(top_termos, cuis_por_documento, top_n=15)\n"
   ]
  }
 ],
 "metadata": {
  "kernelspec": {
   "display_name": "Python 3",
   "language": "python",
   "name": "python3"
  },
  "language_info": {
   "codemirror_mode": {
    "name": "ipython",
    "version": 3
   },
   "file_extension": ".py",
   "mimetype": "text/x-python",
   "name": "python",
   "nbconvert_exporter": "python",
   "pygments_lexer": "ipython3",
   "version": "3.13.1"
  }
 },
 "nbformat": 4,
 "nbformat_minor": 5
}
